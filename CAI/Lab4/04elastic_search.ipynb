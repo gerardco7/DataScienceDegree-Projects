{
 "cells": [
  {
   "cell_type": "markdown",
   "metadata": {},
   "source": [
    "# CAI Lab Session 4: Implementing search in the vector space model"
   ]
  },
  {
   "cell_type": "markdown",
   "metadata": {},
   "source": [
    "In this session you will:\n",
    "\n",
    "- Continue to work with the `arxiv` repository from last session\n",
    "- Learn how to do atomic, conjunctive and disjunctive search with ElasticSearch\n",
    "- Build an inverted index for the `arxiv` repository from last session (should fit in main memory)\n",
    "- Implement search in the vector space model and compare it with ElasticSearch built-in search mechanism\n",
    "- Compare different implementations of search"
   ]
  },
  {
   "cell_type": "markdown",
   "metadata": {},
   "source": [
    "## 1. Built-in search in ElasticSearch\n",
    "\n",
    "ElasticSearch provides a search mechanism to make queries against a database. \n",
    "In the next code snippet you can find examples on how to do this with an atomic query (single term)\n",
    "and with conjunctive and disjunctive queries."
   ]
  },
  {
   "cell_type": "code",
   "execution_count": 1,
   "metadata": {},
   "outputs": [
    {
     "name": "stdout",
     "output_type": "stream",
     "text": [
      "ID= b-dDGosBAcLkfcUZVIXu SCORE=6.597525\n",
      "PATH= /tmp/arxiv/cs.updates.on.arXiv.org/009984\n",
      "TEXT: In computational science and in computer science, research software is a central asset for\n",
      "\n",
      "ID= ledDGosBAcLkfcUZWpl5 SCORE=6.536022\n",
      "PATH= /tmp/arxiv/cs.updates.on.arXiv.org/014543\n",
      "TEXT: Efficient rendering of photo-realistic virtual worlds is a long standing effort of compute\n",
      "\n",
      "ID= ludDGosBAcLkfcUZT3JP SCORE=6.3829436\n",
      "PATH= /tmp/arxiv/quant-ph.updates.on.arXiv.org/001488\n",
      "TEXT: The design of new devices and experiments in science and engineering has historically reli\n",
      "\n",
      "ID= w-dDGosBAcLkfcUZXKB1 SCORE=6.3829436\n",
      "PATH= /tmp/arxiv/cs.updates.on.arXiv.org/013539\n",
      "TEXT: The design of new devices and experiments in science and engineering has historically reli\n",
      "\n",
      "ID= mudDGosBAcLkfcUZU4C8 SCORE=6.3366957\n",
      "PATH= /tmp/arxiv/cs.updates.on.arXiv.org/012998\n",
      "TEXT: The commercialization of transistors capable of both switching and amplification in 1960 r\n",
      "\n"
     ]
    }
   ],
   "source": [
    "from elasticsearch import Elasticsearch\n",
    "from elasticsearch_dsl import Search\n",
    "from elasticsearch_dsl.query import Q\n",
    "\n",
    "\n",
    "client = Elasticsearch(\"http://localhost:9200\", request_timeout=1000)\n",
    "s = Search(using=client, index='arxiv')\n",
    "\n",
    "## atomic query\n",
    "q = Q('query_string',query='computer')  # Feel free to change the word\n",
    "\n",
    "s = s.query(q)\n",
    "response = s[:5].execute()\n",
    "for r in response:  # only returns a specific number of results\n",
    "    print('ID= %s SCORE=%s' % (r.meta.id,  r.meta.score))\n",
    "    print('PATH= %s' % r.path)\n",
    "    print('TEXT: %s' % r.text[:90])\n",
    "    print()"
   ]
  },
  {
   "cell_type": "code",
   "execution_count": 2,
   "metadata": {},
   "outputs": [
    {
     "name": "stdout",
     "output_type": "stream",
     "text": [
      "ID= 1edDGosBAcLkfcUZTnGi SCORE=15.135108\n",
      "PATH= /tmp/arxiv/quant-ph.updates.on.arXiv.org/000677\n",
      "TEXT: We give a new algorithm for computing the robustness of magic - a measure of the utility o\n",
      "\n",
      "ID= c-dDGosBAcLkfcUZT3RR SCORE=15.135108\n",
      "PATH= /tmp/arxiv/quant-ph.updates.on.arXiv.org/000650\n",
      "TEXT: We give a new algorithm for computing the robustness of magic - a measure of the utility o\n",
      "\n",
      "ID= wOdDGosBAcLkfcUZTW_k SCORE=12.778042\n",
      "PATH= /tmp/arxiv/quant-ph.updates.on.arXiv.org/001652\n",
      "TEXT: A defining feature in the field of quantum computing is the potential of a quantum device \n",
      "\n",
      "ID= QudDGosBAcLkfcUZbeou SCORE=11.47281\n",
      "PATH= /tmp/arxiv/cond-mat.updates.on.arXiv.org/000521\n",
      "TEXT: Smale's 7-th problem concerns N-point configurations on the 2-dim sphere which minimize th\n",
      "\n",
      "ID= TehDGosBAcLkfcUZgUnR SCORE=11.47281\n",
      "PATH= /tmp/arxiv/math.updates.on.arXiv.org/000731\n",
      "TEXT: Smale's 7-th problem concerns N-point configurations on the 2-dim sphere which minimize th\n",
      "\n"
     ]
    }
   ],
   "source": [
    "## conjunctive query\n",
    "\n",
    "client = Elasticsearch(\"http://localhost:9200\", request_timeout=1000)\n",
    "s = Search(using=client, index='arxiv')\n",
    "\n",
    "q = Q('query_string',query='computer') & Q('query_string',query='magic')\n",
    "\n",
    "s = s.query(q)\n",
    "response = s[0:5].execute()\n",
    "for r in response:  # only returns a specific number of results\n",
    "    print(f'ID= {r.meta.id} SCORE={r.meta.score}')\n",
    "    print(f'PATH= {r.path}')\n",
    "    print(f'TEXT: {r.text[:90]}')\n",
    "    print()"
   ]
  },
  {
   "cell_type": "code",
   "execution_count": 3,
   "metadata": {},
   "outputs": [
    {
     "name": "stdout",
     "output_type": "stream",
     "text": [
      "ID= 1edDGosBAcLkfcUZTnGi SCORE=15.135108\n",
      "PATH= /tmp/arxiv/quant-ph.updates.on.arXiv.org/000677\n",
      "TEXT: We give a new algorithm for computing the robustness of magic - a measure of the utility o\n",
      "\n",
      "ID= c-dDGosBAcLkfcUZT3RR SCORE=15.135108\n",
      "PATH= /tmp/arxiv/quant-ph.updates.on.arXiv.org/000650\n",
      "TEXT: We give a new algorithm for computing the robustness of magic - a measure of the utility o\n",
      "\n",
      "ID= wOdDGosBAcLkfcUZTW_k SCORE=12.778042\n",
      "PATH= /tmp/arxiv/quant-ph.updates.on.arXiv.org/001652\n",
      "TEXT: A defining feature in the field of quantum computing is the potential of a quantum device \n",
      "\n",
      "ID= Z-dDGosBAcLkfcUZa-J7 SCORE=11.627468\n",
      "PATH= /tmp/arxiv/cond-mat.updates.on.arXiv.org/003482\n",
      "TEXT: When two monolayers of graphene are stacked with a small relative twist angle, the resulti\n",
      "\n",
      "ID= QudDGosBAcLkfcUZbeou SCORE=11.47281\n",
      "PATH= /tmp/arxiv/cond-mat.updates.on.arXiv.org/000521\n",
      "TEXT: Smale's 7-th problem concerns N-point configurations on the 2-dim sphere which minimize th\n",
      "\n"
     ]
    }
   ],
   "source": [
    "## disjunctive query\n",
    "\n",
    "client = Elasticsearch(\"http://localhost:9200\", request_timeout=1000)\n",
    "s = Search(using=client, index='arxiv')\n",
    "\n",
    "q = Q('query_string',query='computer') | Q('query_string',query='magic')\n",
    "\n",
    "s = s.query(q)\n",
    "response = s[0:5].execute()\n",
    "for r in response:  # only returns a specific number of results\n",
    "    print(f'ID= {r.meta.id} SCORE={r.meta.score}')\n",
    "    print(f'PATH= {r.path}')\n",
    "    print(f'TEXT: {r.text[:90]}')\n",
    "    print()"
   ]
  },
  {
   "cell_type": "markdown",
   "metadata": {},
   "source": [
    "## 2. Excruciatingly slow search\n",
    "\n",
    "In class we have presented a _slow_ version of search that, given a search query $q$, loops over every document in the database\n",
    "computing the cosine similarity between document and query. Once this is done, it sorts documents by their similarity w.r.t. $q$ and returns the top $r$\n",
    "scoring ones. \n",
    "\n",
    "```\n",
    "1. for each d in D:\n",
    "    sim(d,q) = 0\n",
    "    get vector representing d\n",
    "    for each w in q:\n",
    "        sim(d,q) += tf(d,w) * idf(w)\n",
    "    normalize sim(d,q) by |d|*|q|\n",
    "2. sort results by similarity\n",
    "3. return top r docs\n",
    "```\n",
    "\n",
    "A possible implementation can be found below."
   ]
  },
  {
   "cell_type": "code",
   "execution_count": 3,
   "metadata": {},
   "outputs": [
    {
     "name": "stderr",
     "output_type": "stream",
     "text": [
      "100%|██████████| 58102/58102 [05:49<00:00, 166.07it/s]"
     ]
    },
    {
     "name": "stdout",
     "output_type": "stream",
     "text": [
      "[('/tmp/arxiv/quant-ph.updates.on.arXiv.org/000650', 0.46298539019176793),\n",
      " ('/tmp/arxiv/quant-ph.updates.on.arXiv.org/000677', 0.46285572520081464),\n",
      " ('/tmp/arxiv/cond-mat.updates.on.arXiv.org/003482', 0.41693456487012037),\n",
      " ('/tmp/arxiv/quant-ph.updates.on.arXiv.org/001475', 0.3078298379878905),\n",
      " ('/tmp/arxiv/astro-ph.updates.on.arXiv.org/002083', 0.26997407750109564),\n",
      " ('/tmp/arxiv/math.updates.on.arXiv.org/002825', 0.2637693594252774),\n",
      " ('/tmp/arxiv/astro-ph.updates.on.arXiv.org/001294', 0.2583918756706909),\n",
      " ('/tmp/arxiv/hep-th.updates.on.arXiv.org/000265', 0.2554940223200789),\n",
      " ('/tmp/arxiv/math.updates.on.arXiv.org/000955', 0.2554940223200789),\n",
      " ('/tmp/arxiv/hep-th.updates.on.arXiv.org/000255', 0.2505494496917682)]\n"
     ]
    },
    {
     "name": "stderr",
     "output_type": "stream",
     "text": [
      "\n"
     ]
    }
   ],
   "source": [
    "from elasticsearch.helpers import scan\n",
    "from pprint import pprint\n",
    "from elasticsearch import Elasticsearch\n",
    "import tqdm\n",
    "import numpy as np\n",
    "\n",
    "client = Elasticsearch(\"http://localhost:9200\", request_timeout=1000)\n",
    "\n",
    "r = 10  # only return r top docs\n",
    "query = 'computer magic'\n",
    "sims = dict()\n",
    "\n",
    "l2query  = np.sqrt(len(query.split()))  # l2 of query assuming 0-1 vector representation\n",
    "\n",
    "# get nr. of docs; just for the progress bar\n",
    "ndocs = int(client.cat.count(index='arxiv', format = \"json\")[0]['count'])\n",
    "\n",
    "# scan through docs, compute cosine sim between query and each doc\n",
    "for s in tqdm.tqdm(scan(client, index='arxiv', query={\"query\" : {\"match_all\": {}}}), total=ndocs):\n",
    "    docid = s['_source']['path']   # use path as id\n",
    "    weights = dict(normalize(tf_idf(s['_id'])))   # gets weights as a python dict of term -> weight\n",
    "    sims[docid] = 0.0\n",
    "    for w in query.split():  # gets terms as a list\n",
    "        if w in weights:    # probably need to do something fancier to make sure that word is in vocabulary etc.\n",
    "            sims[docid] += weights[w]   # accumulates if w in current doc\n",
    "    # normalize sim\n",
    "    sims[docid] /= l2query\n",
    "\n",
    "# now sort by cosine similarity\n",
    "sorted_answer = sorted(sims.items(), key=lambda kv: kv[1], reverse=True)\n",
    "pprint(sorted_answer[:r])\n"
   ]
  },
  {
   "cell_type": "code",
   "execution_count": 24,
   "metadata": {},
   "outputs": [
    {
     "name": "stdout",
     "output_type": "stream",
     "text": [
      "There are 1948 docs with non-zero similarity out of 58102, i.e. 3.4%\n"
     ]
    }
   ],
   "source": [
    "nz = len([x for x, s in sorted_answer if s>0])\n",
    "total = len(sorted_answer)\n",
    "print(f'There are {nz} docs with non-zero similarity out of {total}, i.e. {100.0*nz/total:.1f}%')"
   ]
  },
  {
   "cell_type": "markdown",
   "metadata": {},
   "source": [
    "## 3. Your tasks\n",
    "\n",
    "---\n",
    "\n",
    "**Exercise 1:**  \n",
    "\n",
    "Make sure you understand the algorithm for implementing search described in the lecture notes. Both slow and efficient versions. Describe\n",
    "the number of sums you need to do in both slow and quick versions for the following toy example with a vocabulary of size 4 and four documents:\n",
    "\n",
    "- $q = 0,1,1,0$\n",
    "\n",
    "- document-term matrix:\n",
    "<center>\n",
    "\n",
    "\n",
    "|        | t1  | t2  | t3  | t4  |\n",
    "|--------|-----|-----|-----|-----|\n",
    "| **d1** | 1.2 | 0.0 | 0.0 | 0.0 |\n",
    "| **d2** | 0.7 | 0.3 | 1.5 | 0.1 |\n",
    "| **d3** | 0.0 | 0.0 | 0.0 | 0.7 |\n",
    "| **d4** | 2.0 | 0.0 | 0.0 | 0.0 |\n",
    "\n",
    "</center>\n",
    "\n",
    "---\n",
    "\n",
    "**Exercise 2:**\n",
    "\n",
    "Implement the quick version; run both slow and quick versions and report times (as a reference, in my old laptop it takes around 5m30s to run the slow version in the code above). Make sure both versions return the same answer. Note that you will need to build an inverted index in order to implement the efficient version as explained in class; it may take time but this is done once for all queries, and can be done \"off-line\".\n",
    "\n",
    "---\n",
    "\n",
    "**Exercise 3:**\n",
    "\n",
    "Compare the results for a few sample queries that you get from your quick version and ElasticSearch search. Do you get similar results? Which is faster?\n",
    "\n",
    "---"
   ]
  },
  {
   "cell_type": "markdown",
   "metadata": {},
   "source": [
    "## 4. Rules of delivery\n",
    "\n",
    "- To be solved in _pairs_.\n",
    "\n",
    "- No plagiarism; don't discuss your work with other teams. You can ask for help to others for simple things, such as recalling a python instruction or module, but nothing too specific to the session.\n",
    "\n",
    "- If you feel you are spending much more time than the rest of the classmates, ask us for help. Questions can be asked either in person or by email, and you'll never be penalized by asking questions, no matter how stupid they look in retrospect.\n",
    "\n",
    "- Write a short report listing the solutions to the exercises proposed. Include things like the important parts of your implementation (data structures used for representing objects, algorithms used, etc). You are welcome to add conclusions and findings that depart from what we asked you to do. We encourage you to discuss the difficulties you find; this lets us give you help and also improve the lab session for future editions.\n",
    "\n",
    "- Turn the report to PDF. Make sure it has your names, date, and title. Include your code in your submission.\n",
    "\n",
    "- Submit your work through the [raco](http://www.fib.upc.edu/en/serveis/raco.html) _before November 6th, 2023_."
   ]
  }
 ],
 "metadata": {
  "kernelspec": {
   "display_name": "Python 3",
   "language": "python",
   "name": "python3"
  },
  "language_info": {
   "codemirror_mode": {
    "name": "ipython",
    "version": 3
   },
   "file_extension": ".py",
   "mimetype": "text/x-python",
   "name": "python",
   "nbconvert_exporter": "python",
   "pygments_lexer": "ipython3",
   "version": "3.10.9"
  },
  "latex_envs": {
   "LaTeX_envs_menu_present": true,
   "autoclose": false,
   "autocomplete": true,
   "bibliofile": "biblio.bib",
   "cite_by": "apalike",
   "current_citInitial": 1,
   "eqLabelWithNumbers": true,
   "eqNumInitial": 1,
   "hotkeys": {
    "equation": "Ctrl-E",
    "itemize": "Ctrl-I"
   },
   "labels_anchors": false,
   "latex_user_defs": false,
   "report_style_numbering": false,
   "user_envs_cfg": false
  },
  "toc": {
   "nav_menu": {
    "height": "81px",
    "width": "252px"
   },
   "number_sections": true,
   "sideBar": true,
   "skip_h1_title": false,
   "toc_cell": false,
   "toc_position": {},
   "toc_section_display": "block",
   "toc_window_display": false
  }
 },
 "nbformat": 4,
 "nbformat_minor": 4
}
